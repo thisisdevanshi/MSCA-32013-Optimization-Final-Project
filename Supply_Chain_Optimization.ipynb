{
 "cells": [
  {
   "cell_type": "markdown",
   "metadata": {},
   "source": [
    "### What is supply chain optimization?"
   ]
  },
  {
   "cell_type": "markdown",
   "metadata": {},
   "source": [
    "**Author:** Devanshi Verma\n",
    "<br>\n",
    "**Date**: August-01-2020"
   ]
  },
  {
   "cell_type": "markdown",
   "metadata": {},
   "source": [
    "- Parties involved to fulfill a customers request\n",
    "- This includes: Suppliers, Internal manufacturing and Outsourcing\n",
    "- Constraints can be in terms of Producity capacity or capability of a truck to carry load \n",
    "- Objective can be low cost or high service"
   ]
  },
  {
   "cell_type": "markdown",
   "metadata": {},
   "source": [
    "**Basic Bakery Problem**"
   ]
  },
  {
   "cell_type": "code",
   "execution_count": 60,
   "metadata": {},
   "outputs": [
    {
     "name": "stdout",
     "output_type": "stream",
     "text": [
      "0.0\n",
      "11.0\n"
     ]
    }
   ],
   "source": [
    "from pulp import *\n",
    "#initialize the model\n",
    "model=LpProblem(name='Maximize_Bakery_Profits',sense=LpMaximize)\n",
    "\n",
    "#initializing the inputs\n",
    "A = LpVariable(\"A\", lowBound=0,cat='Integer')\n",
    "B = LpVariable(\"B\", lowBound=0,cat='Integer')\n",
    "\n",
    "#defining the objective function\n",
    "model+=20*A+40*B\n",
    "\n",
    "\n",
    "#Defining the constraints\n",
    "model+=0.5*A+1*B<=30\n",
    "model+=1*A+2.5*B<=60\n",
    "model+=1*A+2*B<=22\n",
    "\n",
    "model\n",
    "\n",
    "status = model.solve()\n",
    "\n",
    "#Solve the mode\n",
    "print(value(A))\n",
    "print(value(B))"
   ]
  },
  {
   "cell_type": "markdown",
   "metadata": {},
   "source": [
    "**Warehouse Problem**"
   ]
  },
  {
   "cell_type": "code",
   "execution_count": 58,
   "metadata": {},
   "outputs": [
    {
     "name": "stdout",
     "output_type": "stream",
     "text": [
      "Warehouseproblem:\n",
      "MINIMIZE\n",
      "232*route_('Atlanta',_'East') + 230*route_('Atlanta',_'MidWest') + 212*route_('Atlanta',_'South') + 280*route_('Atlanta',_'West') + 211*route_('NewYork',_'East') + 240*route_('NewYork',_'MidWest') + 232*route_('NewYork',_'South') + 300*route_('NewYork',_'West') + 0\n",
      "SUBJECT TO\n",
      "_C1: route_('Atlanta',_'East') + route_('NewYork',_'East') = 1800\n",
      "\n",
      "_C2: route_('Atlanta',_'South') + route_('NewYork',_'South') = 1200\n",
      "\n",
      "_C3: route_('Atlanta',_'MidWest') + route_('NewYork',_'MidWest') = 1100\n",
      "\n",
      "_C4: route_('Atlanta',_'West') + route_('NewYork',_'West') = 1000\n",
      "\n",
      "VARIABLES\n",
      "0 <= route_('Atlanta',_'East') Integer\n",
      "0 <= route_('Atlanta',_'MidWest') Integer\n",
      "0 <= route_('Atlanta',_'South') Integer\n",
      "0 <= route_('Atlanta',_'West') Integer\n",
      "0 <= route_('NewYork',_'East') Integer\n",
      "0 <= route_('NewYork',_'MidWest') Integer\n",
      "0 <= route_('NewYork',_'South') Integer\n",
      "0 <= route_('NewYork',_'West') Integer\n",
      "\n",
      "Optimal\n",
      "1\n",
      "('NewYork', 'East')\n",
      "1800.0\n",
      "('NewYork', 'South')\n",
      "0.0\n",
      "('NewYork', 'MidWest')\n",
      "0.0\n",
      "('NewYork', 'West')\n",
      "0.0\n",
      "('Atlanta', 'East')\n",
      "0.0\n",
      "('Atlanta', 'South')\n",
      "1200.0\n",
      "('Atlanta', 'MidWest')\n",
      "1100.0\n",
      "('Atlanta', 'West')\n",
      "1000.0\n"
     ]
    }
   ],
   "source": [
    "#Definining the mode\n",
    "model2=LpProblem(name='Warehouseproblem',sense=LpMinimize)\n",
    "\n",
    "#Decision variables\n",
    "customers=['East','South','MidWest','West']\n",
    "warehouse=['NewYork', 'Atlanta']\n",
    "transport=LpVariable.dicts(\"route\",[(w,c) for w in warehouse for c in customers],cat='Integer',lowBound=0)\n",
    "\n",
    "#Objective Function: Cost of shipping from warehouse to customers\n",
    "costs={('Atlanta', 'East'): 232,\n",
    " ('Atlanta', 'MidWest'): 230,\n",
    " ('Atlanta', 'South'): 212,\n",
    " ('Atlanta', 'West'): 280,\n",
    " ('NewYork', 'East'): 211,\n",
    " ('NewYork', 'MidWest'): 240,\n",
    " ('NewYork', 'South'): 232,\n",
    " ('NewYork', 'West'): 300}\n",
    "model2+=lpSum([costs[w,c]*transport[w,c]] for w in warehouse for c in customers)\n",
    "\n",
    "#Constraints\n",
    "regional_demand = [1800, 1200, 1100, 1000]\n",
    "demand = dict(zip(customers, regional_demand))\n",
    "for c in customers:\n",
    "    model2 += lpSum([transport[(w, c)] for w in warehouse]) == demand[c]\n",
    "    \n",
    "#Printing the model\n",
    "print(model2)\n",
    "\n",
    "#Solving the mode\n",
    "status = model2.solve()\n",
    "print(LpStatus[model2.status])\n",
    "print(status)\n",
    "\n",
    "\n",
    "#Solve the mode\n",
    "for var in transport:\n",
    "    print(var)\n",
    "    print(transport[var].varValue)"
   ]
  },
  {
   "cell_type": "markdown",
   "metadata": {},
   "source": [
    "**Traveling Salesman problem**"
   ]
  },
  {
   "cell_type": "code",
   "execution_count": 62,
   "metadata": {},
   "outputs": [],
   "source": [
    "cities=range(0, 15)\n",
    "n=15\n",
    "# Define Decision Variables\n",
    "x = LpVariable.dicts('X', [(c1, c2) for c1 in cities for c2 in cities], \n",
    "                     cat='Binary')\n",
    "u = LpVariable.dicts('U', [c1 for c1 in cities], \n",
    "                     lowBound=0, upBound=(n-1), cat='Integer')\n",
    "\n",
    "# Define Objective\n",
    "model += lpSum([dist.iloc[c1, c2] * x[(c1, c2)] \n",
    "                for c1 in cities for c2 in cities])\n",
    "# Define Constraints\n",
    "for c2 in cities:\n",
    "    model += lpSum([x[(c1, c2)] for c1 in cities]) == 1\n",
    "for c1 in cities:\n",
    "    model += lpSum([x[(c1, c2)] for c2 in cities]) == 1"
   ]
  }
 ],
 "metadata": {
  "kernelspec": {
   "display_name": "Python 3",
   "language": "python",
   "name": "python3"
  },
  "language_info": {
   "codemirror_mode": {
    "name": "ipython",
    "version": 3
   },
   "file_extension": ".py",
   "mimetype": "text/x-python",
   "name": "python",
   "nbconvert_exporter": "python",
   "pygments_lexer": "ipython3",
   "version": "3.7.6"
  }
 },
 "nbformat": 4,
 "nbformat_minor": 4
}
