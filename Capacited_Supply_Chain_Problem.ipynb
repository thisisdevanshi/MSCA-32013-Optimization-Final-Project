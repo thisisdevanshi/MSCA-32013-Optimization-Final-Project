{
 "cells": [
  {
   "cell_type": "markdown",
   "metadata": {},
   "source": [
    "# Optimized supply chain network"
   ]
  },
  {
   "cell_type": "markdown",
   "metadata": {},
   "source": [
    "**Author:** Devanshi Verma\n",
    "<br>\n",
    "**Date**: August-01-2020\n",
    "<br>\n",
    "**Goal**: Design an optimized supply chain network\n",
    "\n",
    "- Find the balance between a few regional plants and big plants while mainting low costs\n",
    "- Determine regional production of a product"
   ]
  },
  {
   "cell_type": "markdown",
   "metadata": {},
   "source": [
    "**Modelling**\n",
    "\n",
    "- Production at regional facilities: Low and High\n",
    "- Production to other regions\n",
    "- Productional facilities open or close\n",
    "\n",
    "**Decision Variables**\n",
    "\n",
    "- xij = Quantity produced at i and shipped to j\n",
    "- yis = 1 if plant location i and capacity is open, 0 if closed where s can be low or high\n",
    "\n",
    "**Objective Function**\n",
    "\n",
    "- Sum of (fixed costs X Yis) over production facilities + Sum of (variablecost X xij) over productional facilities and number of markets"
   ]
  },
  {
   "cell_type": "code",
   "execution_count": 7,
   "metadata": {},
   "outputs": [],
   "source": [
    "#Simple Model\n",
    "from pulp import *\n",
    "\n",
    "#Initialise the model\n",
    "model=LpProblem(\"Capacitedplantlocation\",LpMinimize)\n",
    "\n",
    "#Decision Variables\n",
    "loc=['A','B','C','D','E']\n",
    "size=['Lowcap','Highcap']\n",
    "x=LpVariable.dicts(\"production\", [(i,j) for i in loc for j in loc],lowBound=0,upBound=None,cat='Continous')\n",
    "y=LpVariable.dicts(\"plants\", [(i,s) for i in loc for s in size],cat='Binary')\n",
    "\n",
    "#Objective Model\n",
    "# Define objective function\n",
    "model += (lpSum([fix_cost.loc[i,s] * y[(i,s)] \n",
    "                 for s in size for i in loc])\n",
    "          + lpSum([var_cost.loc[i,j] * x[(i,j)] \n"
   ]
  },
  {
   "cell_type": "markdown",
   "metadata": {},
   "source": [
    "**Loading Truck Problem**"
   ]
  },
  {
   "cell_type": "code",
   "execution_count": null,
   "metadata": {},
   "outputs": [],
   "source": []
  }
 ],
 "metadata": {
  "kernelspec": {
   "display_name": "Python 3",
   "language": "python",
   "name": "python3"
  },
  "language_info": {
   "codemirror_mode": {
    "name": "ipython",
    "version": 3
   },
   "file_extension": ".py",
   "mimetype": "text/x-python",
   "name": "python",
   "nbconvert_exporter": "python",
   "pygments_lexer": "ipython3",
   "version": "3.7.6"
  }
 },
 "nbformat": 4,
 "nbformat_minor": 4
}
